{
 "cells": [
  {
   "cell_type": "code",
   "execution_count": null,
   "metadata": {},
   "outputs": [],
   "source": [
    "import cv2\n",
    "import numpy as np\n",
    "import torch\n",
    "from skimage.color import rgb2yuv,yuv2rgb\n",
    "import torchvision.transforms as T\n",
    "from PIL import Image\n",
    "import matplotlib.pyplot as plt\n",
    "from model import generator\n",
    "from torch.autograd import Variable\n",
    "from scipy.ndimage import zoom\n",
    "\n",
    "G = generator()\n",
    "G.cuda()\n",
    "checkpoint = torch.load('.\\\\G.pth', map_location='cuda:0')\n",
    "G.load_state_dict(checkpoint)\n",
    "\n",
    "p = Image.open('..\\\\..\\\\train_data\\\\Places365_val_00000091.jpg').convert('RGB')\n",
    "arr = np.array(p.convert('L'))\n",
    "img_yuv = rgb2yuv(p)\n",
    "H,W,_ = img_yuv.shape\n",
    "infimg = np.expand_dims(np.expand_dims(img_yuv[...,0], axis=0), axis=0)\n",
    "img_variable = Variable(torch.Tensor(infimg-0.5)).cuda()\n",
    "\n",
    "res = G(img_variable)\n",
    "uv = res.cpu().detach().numpy()\n",
    "uv[:,0,:,:] *= 0.436\n",
    "uv[:,1,:,:] *= 0.615\n",
    "(_,_,H1,W1) = uv.shape\n",
    "uv = zoom(uv,(1,1,H/H1,W/W1))\n",
    "yuv = np.concatenate([infimg,uv],axis=1)[0]\n",
    "rgb = yuv2rgb(yuv.transpose(1,2,0))\n",
    "final = (rgb.clip(min=0,max=1)*256)[:,:,[2,1,0]]"
   ]
  },
  {
   "cell_type": "code",
   "execution_count": null,
   "metadata": {},
   "outputs": [],
   "source": [
    "fig, axs = plt.subplots(1,3, figsize=(10, 10))\n",
    "axs[0].set_title('Grayscale Image')\n",
    "axs[0].imshow(arr, cmap='gray', vmin=0, vmax=255)\n",
    "axs[1].set_title('Colorized Image')\n",
    "axs[1].imshow(rgb)\n",
    "axs[2].set_title('Original Image')\n",
    "axs[2].imshow(p)"
   ]
  },
  {
   "cell_type": "code",
   "execution_count": null,
   "metadata": {},
   "outputs": [],
   "source": []
  }
 ],
 "metadata": {
  "interpreter": {
   "hash": "6e6013f052bd17526d25655e5a54fc0ac8f0a730f9cb4d33cf432e7185ecfd99"
  },
  "kernelspec": {
   "display_name": "Python 3.7.1 64-bit",
   "language": "python",
   "name": "python3"
  },
  "language_info": {
   "codemirror_mode": {
    "name": "ipython",
    "version": 3
   },
   "file_extension": ".py",
   "mimetype": "text/x-python",
   "name": "python",
   "nbconvert_exporter": "python",
   "pygments_lexer": "ipython3",
   "version": "3.7.1"
  },
  "orig_nbformat": 4
 },
 "nbformat": 4,
 "nbformat_minor": 2
}
